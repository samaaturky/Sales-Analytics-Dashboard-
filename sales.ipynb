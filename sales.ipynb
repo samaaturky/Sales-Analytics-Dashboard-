{
 "cells": [
  {
   "cell_type": "code",
   "execution_count": 1,
   "id": "e5cb6f94-d485-4e3f-9640-5faee1f81b5d",
   "metadata": {},
   "outputs": [],
   "source": [
    "import pandas as pd"
   ]
  },
  {
   "cell_type": "code",
   "execution_count": 3,
   "id": "6f81b0a2-4363-4fe0-9528-f991759881c3",
   "metadata": {},
   "outputs": [],
   "source": [
    "df=pd.read_csv('salesforcourse-4fe2kehu.csv')"
   ]
  },
  {
   "cell_type": "code",
   "execution_count": 6,
   "id": "01ca494c-5871-4446-b3e8-47cc2ac3f0cf",
   "metadata": {},
   "outputs": [],
   "source": [
    "df.drop(columns='index',inplace=True)"
   ]
  },
  {
   "cell_type": "code",
   "execution_count": 7,
   "id": "4e04af82-bc92-4228-a48f-dcf7553d1d5f",
   "metadata": {},
   "outputs": [
    {
     "data": {
      "text/plain": [
       "Index(['Date', 'Year', 'Month', 'Customer Age', 'Customer Gender', 'Country',\n",
       "       'State', 'Product Category', 'Sub Category', 'Quantity', 'Unit Cost',\n",
       "       'Unit Price', 'Cost', 'Revenue', 'Column1'],\n",
       "      dtype='object')"
      ]
     },
     "execution_count": 7,
     "metadata": {},
     "output_type": "execute_result"
    }
   ],
   "source": [
    "df.columns"
   ]
  },
  {
   "cell_type": "code",
   "execution_count": 11,
   "id": "2db9bb07-babd-4d31-83b6-42b8e2a81bd7",
   "metadata": {},
   "outputs": [
    {
     "data": {
      "text/plain": [
       "np.int64(0)"
      ]
     },
     "execution_count": 11,
     "metadata": {},
     "output_type": "execute_result"
    }
   ],
   "source": [
    "df.duplicated().sum()"
   ]
  },
  {
   "cell_type": "code",
   "execution_count": 12,
   "id": "c3d8d88d-6e14-46bc-a305-e1b563871b82",
   "metadata": {},
   "outputs": [
    {
     "data": {
      "text/plain": [
       "Date                    1\n",
       "Year                    1\n",
       "Month                   1\n",
       "Customer Age            1\n",
       "Customer Gender         1\n",
       "Country                 1\n",
       "State                   1\n",
       "Product Category        1\n",
       "Sub Category            1\n",
       "Quantity                1\n",
       "Unit Cost               1\n",
       "Unit Price              1\n",
       "Cost                    1\n",
       "Revenue                 0\n",
       "Column1             32293\n",
       "dtype: int64"
      ]
     },
     "execution_count": 12,
     "metadata": {},
     "output_type": "execute_result"
    }
   ],
   "source": [
    "df.isnull().sum()"
   ]
  },
  {
   "cell_type": "code",
   "execution_count": 13,
   "id": "ae653260-3751-448c-b1d9-23fa9b9e086c",
   "metadata": {},
   "outputs": [],
   "source": [
    "df.drop(columns='Column1',inplace=True)"
   ]
  },
  {
   "cell_type": "code",
   "execution_count": 16,
   "id": "7f412dc9-0ed8-4d13-892a-21f1ee67c818",
   "metadata": {},
   "outputs": [],
   "source": [
    "df=df.dropna()"
   ]
  },
  {
   "cell_type": "code",
   "execution_count": 18,
   "id": "414e7353-01a5-4511-a396-26210cb1072b",
   "metadata": {},
   "outputs": [
    {
     "data": {
      "text/plain": [
       "np.int64(0)"
      ]
     },
     "execution_count": 18,
     "metadata": {},
     "output_type": "execute_result"
    }
   ],
   "source": [
    "df.isnull().sum().sum()"
   ]
  },
  {
   "cell_type": "code",
   "execution_count": 19,
   "id": "3e0c0a8d-07df-4ac5-8283-0ebec78f060a",
   "metadata": {},
   "outputs": [],
   "source": [
    "df.to_csv('cleaned_sales.csv', index=False)"
   ]
  }
 ],
 "metadata": {
  "kernelspec": {
   "display_name": "Python (mlenv)",
   "language": "python",
   "name": "mlenv"
  },
  "language_info": {
   "codemirror_mode": {
    "name": "ipython",
    "version": 3
   },
   "file_extension": ".py",
   "mimetype": "text/x-python",
   "name": "python",
   "nbconvert_exporter": "python",
   "pygments_lexer": "ipython3",
   "version": "3.10.18"
  }
 },
 "nbformat": 4,
 "nbformat_minor": 5
}
